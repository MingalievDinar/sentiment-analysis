{
 "cells": [
  {
   "cell_type": "code",
   "execution_count": 2,
   "metadata": {
    "collapsed": true
   },
   "outputs": [],
   "source": [
    "# Import necessary libraries and functions\n",
    "import numpy as np\n",
    "import pandas as pd\n",
    "import pickle\n",
    "import bs4\n",
    "from sklearn.feature_extraction.text import TfidfVectorizer\n",
    "from sklearn.svm import LinearSVC\n",
    "from sklearn.pipeline import Pipeline\n",
    "from sklearn.metrics import accuracy_score\n",
    "import warnings"
   ]
  },
  {
   "cell_type": "code",
   "execution_count": 3,
   "metadata": {
    "collapsed": false
   },
   "outputs": [
    {
     "name": "stdout",
     "output_type": "stream",
     "text": [
      "The number of negative reviews in the sample: 78\n",
      "The number of positive reviews in the sample 76\n"
     ]
    }
   ],
   "source": [
    "# Read data, parsed from Yandex.Market in the categories \"Samsung\", \"Nokia\" and \"qwerty\"\n",
    "df_n = pd.read_csv('train.negative.csv', sep='\\n')\n",
    "df_p = pd.read_csv('train.positive.csv', sep='\\n')\n",
    "df = df_n.append(df_p)\n",
    "# The sample has small size but balanced (78 + 76)\n",
    "print(\"The number of negative reviews in the sample: {neg}\".format(neg=len(df_n)))\n",
    "print(\"The number of positive reviews in the sample {pos}\".format(pos=len(df_p)))\n",
    "\n",
    "traindata = list(df.review)\n",
    "trainlabels = [0]*len(df_n) + [1]*len(df_p)"
   ]
  },
  {
   "cell_type": "code",
   "execution_count": 9,
   "metadata": {
    "collapsed": true
   },
   "outputs": [],
   "source": [
    "# The simplest model on literal trigrams and the LinearSVC-classifier.\n",
    "# For Russian text get good results!\n",
    "def create_simple_model(params=None):\n",
    "    tfidf_wordngrams = TfidfVectorizer(ngram_range=(1,3),\n",
    "                                       analyzer='char_wb',\n",
    "                                       min_df=2,\n",
    "                                       stop_words=None,\n",
    "                                       smooth_idf=True,\n",
    "                                       sublinear_tf=False,\n",
    "                                       binary=True,\n",
    "                                       norm=\"l2\")\n",
    "    \n",
    "    clf = LinearSVC()\n",
    "    pipeline = Pipeline([('vect', tfidf_wordngrams), ('clf', clf)])\n",
    "    if params:\n",
    "        pipeline.set_params(**params)\n",
    "    return pipeline"
   ]
  },
  {
   "cell_type": "code",
   "execution_count": 10,
   "metadata": {
    "collapsed": false
   },
   "outputs": [
    {
     "data": {
      "text/plain": [
       "Pipeline(steps=[('vect', TfidfVectorizer(analyzer='char_wb', binary=True, decode_error=u'strict',\n",
       "        dtype=<type 'numpy.int64'>, encoding=u'utf-8', input=u'content',\n",
       "        lowercase=True, max_df=1.0, max_features=None, min_df=2,\n",
       "        ngram_range=(1, 3), norm='l2', preprocessor=None, smooth_idf=True...ax_iter=1000,\n",
       "     multi_class='ovr', penalty='l2', random_state=None, tol=0.0001,\n",
       "     verbose=0))])"
      ]
     },
     "execution_count": 10,
     "metadata": {},
     "output_type": "execute_result"
    }
   ],
   "source": [
    "# Create and train a model!\n",
    "model = create_simple_model()\n",
    "model.fit(traindata, trainlabels)"
   ]
  },
  {
   "cell_type": "code",
   "execution_count": 11,
   "metadata": {
    "collapsed": false
   },
   "outputs": [
    {
     "data": {
      "text/plain": [
       "['ClasModel.pkl']"
      ]
     },
     "execution_count": 11,
     "metadata": {},
     "output_type": "execute_result"
    }
   ],
   "source": [
    "# Save the result in pkl\n",
    "from sklearn.externals import joblib\n",
    "joblib.dump(model, 'ClasModel.pkl') "
   ]
  }
 ],
 "metadata": {
  "kernelspec": {
   "display_name": "Python 2",
   "language": "python",
   "name": "python2"
  },
  "language_info": {
   "codemirror_mode": {
    "name": "ipython",
    "version": 2
   },
   "file_extension": ".py",
   "mimetype": "text/x-python",
   "name": "python",
   "nbconvert_exporter": "python",
   "pygments_lexer": "ipython2",
   "version": "2.7.12"
  }
 },
 "nbformat": 4,
 "nbformat_minor": 1
}
